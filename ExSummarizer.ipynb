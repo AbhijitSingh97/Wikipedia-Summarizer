{
  "nbformat": 4,
  "nbformat_minor": 0,
  "metadata": {
    "colab": {
      "name": "ExSummarizer.ipynb",
      "provenance": [],
      "collapsed_sections": []
    },
    "kernelspec": {
      "name": "python3",
      "display_name": "Python 3"
    }
  },
  "cells": [
    {
      "cell_type": "code",
      "metadata": {
        "id": "KG5e51UDtVUy",
        "colab_type": "code",
        "colab": {}
      },
      "source": [
        "import spacy"
      ],
      "execution_count": 0,
      "outputs": []
    },
    {
      "cell_type": "markdown",
      "metadata": {
        "id": "pu2PowCoEJl1",
        "colab_type": "text"
      },
      "source": [
        "# ***TEXT PRE PROCESSING***"
      ]
    },
    {
      "cell_type": "code",
      "metadata": {
        "id": "2ImUEO-gtY2g",
        "colab_type": "code",
        "colab": {}
      },
      "source": [
        "from spacy.lang.en.stop_words import STOP_WORDS\n",
        "from string import punctuation"
      ],
      "execution_count": 0,
      "outputs": []
    },
    {
      "cell_type": "code",
      "metadata": {
        "id": "rzWn5vaiunaw",
        "colab_type": "code",
        "colab": {}
      },
      "source": [
        "stopwords = list(STOP_WORDS)"
      ],
      "execution_count": 0,
      "outputs": []
    },
    {
      "cell_type": "markdown",
      "metadata": {
        "id": "jal9o41GEbgU",
        "colab_type": "text"
      },
      "source": [
        "# ***TRAINING DOCUMENTS***"
      ]
    },
    {
      "cell_type": "code",
      "metadata": {
        "id": "noGxA6rhuqAz",
        "colab_type": "code",
        "colab": {}
      },
      "source": [
        "document1= \"\"\"F. angorensis Gmelin, 1788 F. vulgaris Fischer, 1829.The cat (Felis catus) is a small carnivorous mammal.[1][2] It is the only domesticated species in the family Felidae and often referred to as the domestic cat to distinguish it from wild members of the family.[4] The cat is either a house cat or a farm cat, which are pets, or a feral cat, which ranges freely and avoids human contact.[5] A house cat is valued by humans for companionship and for its ability to hunt rodents. About 60 cat breeds are recognized by various cat registries.[6]\n",
        "\n",
        "Cats are similar in anatomy to the other felid species, with a strong flexible body, quick reflexes, sharp teeth and retractable claws adapted to killing small prey. They are predators who are most active at dawn and dusk (crepuscular). Cats can hear sounds too faint or too high in frequency for human ears, such as those made by mice and other small animals. Compared to humans, they see better in the dark (they see in near total darkness) and have a better sense of smell, but poorer color vision. Cats, despite being solitary hunters, are a social species. Cat communication includes the use of vocalizations including meowing, purring, trilling, hissing, growling and grunting as well as cat-specific body language.[7] Cats also communicate by secreting and perceiving pheromones.[8]\n",
        "\n",
        "Female domestic cats can have kittens from spring to late autumn, with litter sizes ranging from two to five kittens.[9] Domestic cats can be bred and shown as registered pedigreed cats, a hobby known as cat fancy. Failure to control the breeding of pet cats by spaying and neutering, as well as abandonment of pets, has resulted in large numbers of feral cats worldwide, contributing to the extinction of entire bird species, and evoking population control.[10]\n",
        "\n",
        "It was long thought that cat domestication was initiated in Egypt, because cats in ancient Egypt were venerated since around 3100 BC.[11][12] However, the earliest indication for the taming of an African wildcat (F. lybica) was found in Cyprus, where a cat skeleton was excavated close by a human Neolithic grave dating to around 7500 BC.[13] African wildcats were probably first domesticated in the Near East.[14] The leopard cat (Prionailurus bengalensis) was tamed independently in China around 5500 BC, though this line of partially domesticated cats leaves no trace in the domestic cat populations of today.[15][16]\n",
        "\n",
        "As of 2017, the domestic cat was the second-most popular pet in the U.S. by number of pets owned, after freshwater fish,[17] with 95 million cats owned.[18][19] In the United Kingdom, around 7.3 million cats lived in more than 4.8 million households as of 2019.[20] In 1965, the country's cat population was 4.1 million.\"\"\""
      ],
      "execution_count": 0,
      "outputs": []
    },
    {
      "cell_type": "code",
      "metadata": {
        "id": "ErMcYuyru5m-",
        "colab_type": "code",
        "colab": {}
      },
      "source": [
        "document2 = \"\"\"Our Father who art in heaven, hallowed be thy name. Thy kingdom come. Thy will be done, on earth as it is in heaven. Give us this day our daily bread; and forgive us our trespasses, as we forgive those who trespass against us; and lead us not into temptation, but deliver us from evil\n",
        "\"\"\""
      ],
      "execution_count": 0,
      "outputs": []
    },
    {
      "cell_type": "code",
      "metadata": {
        "id": "wfhEK4Keu9Jj",
        "colab_type": "code",
        "colab": {}
      },
      "source": [
        "nlp = spacy.load('en')"
      ],
      "execution_count": 0,
      "outputs": []
    },
    {
      "cell_type": "code",
      "metadata": {
        "id": "fWSh218nvATE",
        "colab_type": "code",
        "colab": {}
      },
      "source": [
        "# Build an NLP Object\n",
        "docx = nlp(document1)"
      ],
      "execution_count": 0,
      "outputs": []
    },
    {
      "cell_type": "code",
      "metadata": {
        "id": "NiyoS1uBvDt6",
        "colab_type": "code",
        "colab": {}
      },
      "source": [
        "# Tokenization of Text\n",
        "mytokens = [token.text for token in docx]"
      ],
      "execution_count": 0,
      "outputs": []
    },
    {
      "cell_type": "code",
      "metadata": {
        "id": "s1XmiF2SvGnR",
        "colab_type": "code",
        "colab": {}
      },
      "source": [
        "# Build Word Frequency\n",
        "# word.text is tokenization in spacy\n",
        "word_frequencies = {}\n",
        "for word in docx:\n",
        "    if word.text not in stopwords:\n",
        "            if word.text not in word_frequencies.keys():\n",
        "                word_frequencies[word.text] = 1\n",
        "            else:\n",
        "                word_frequencies[word.text] += 1"
      ],
      "execution_count": 0,
      "outputs": []
    },
    {
      "cell_type": "code",
      "metadata": {
        "id": "EQvcJh7mvLLT",
        "colab_type": "code",
        "outputId": "96573fb4-8438-4358-ea8b-6d3fbfc65ab2",
        "colab": {
          "base_uri": "https://localhost:8080/",
          "height": 1000
        }
      },
      "source": [
        "word_frequencies"
      ],
      "execution_count": 0,
      "outputs": [
        {
          "output_type": "execute_result",
          "data": {
            "text/plain": [
              "{'\\n': 2,\n",
              " '\\n\\n': 4,\n",
              " '(': 5,\n",
              " ')': 5,\n",
              " ',': 31,\n",
              " '-': 2,\n",
              " '.': 8,\n",
              " '1788': 1,\n",
              " '1829': 1,\n",
              " '1965': 1,\n",
              " '2017': 1,\n",
              " '2019.[20': 1,\n",
              " '3100': 1,\n",
              " '4.1': 1,\n",
              " '4.8': 1,\n",
              " '5500': 1,\n",
              " '60': 1,\n",
              " '7.3': 1,\n",
              " '7500': 1,\n",
              " '95': 1,\n",
              " 'A': 1,\n",
              " 'About': 1,\n",
              " 'African': 2,\n",
              " 'As': 1,\n",
              " 'BC': 1,\n",
              " 'BC.[11][12': 1,\n",
              " 'BC.[13': 1,\n",
              " 'Cat': 1,\n",
              " 'Cats': 4,\n",
              " 'China': 1,\n",
              " 'Compared': 1,\n",
              " 'Cyprus': 1,\n",
              " 'Domestic': 1,\n",
              " 'East.[14': 1,\n",
              " 'Egypt': 2,\n",
              " 'F.': 3,\n",
              " 'Failure': 1,\n",
              " 'Felidae': 1,\n",
              " 'Felis': 1,\n",
              " 'Female': 1,\n",
              " 'Fischer': 1,\n",
              " 'Gmelin': 1,\n",
              " 'However': 1,\n",
              " 'In': 2,\n",
              " 'It': 2,\n",
              " 'Kingdom': 1,\n",
              " 'Near': 1,\n",
              " 'Neolithic': 1,\n",
              " 'Prionailurus': 1,\n",
              " 'The': 3,\n",
              " 'They': 1,\n",
              " 'U.S.': 1,\n",
              " 'United': 1,\n",
              " ']': 15,\n",
              " 'abandonment': 1,\n",
              " 'ability': 1,\n",
              " 'active': 1,\n",
              " 'adapted': 1,\n",
              " 'anatomy': 1,\n",
              " 'ancient': 1,\n",
              " 'angorensis': 1,\n",
              " 'animals': 1,\n",
              " 'autumn': 1,\n",
              " 'avoids': 1,\n",
              " 'bengalensis': 1,\n",
              " 'better': 2,\n",
              " 'bird': 1,\n",
              " 'body': 2,\n",
              " 'bred': 1,\n",
              " 'breeding': 1,\n",
              " 'breeds': 1,\n",
              " 'carnivorous': 1,\n",
              " 'cat': 17,\n",
              " 'cats': 9,\n",
              " 'catus': 1,\n",
              " 'claws': 1,\n",
              " 'close': 1,\n",
              " 'color': 1,\n",
              " 'communicate': 1,\n",
              " 'communication': 1,\n",
              " 'companionship': 1,\n",
              " 'contact.[5': 1,\n",
              " 'contributing': 1,\n",
              " 'control': 1,\n",
              " 'control.[10': 1,\n",
              " 'country': 1,\n",
              " 'crepuscular': 1,\n",
              " 'dark': 1,\n",
              " 'darkness': 1,\n",
              " 'dating': 1,\n",
              " 'dawn': 1,\n",
              " 'despite': 1,\n",
              " 'distinguish': 1,\n",
              " 'domestic': 4,\n",
              " 'domesticated': 3,\n",
              " 'domestication': 1,\n",
              " 'dusk': 1,\n",
              " 'earliest': 1,\n",
              " 'ears': 1,\n",
              " 'entire': 1,\n",
              " 'evoking': 1,\n",
              " 'excavated': 1,\n",
              " 'extinction': 1,\n",
              " 'faint': 1,\n",
              " 'family': 1,\n",
              " 'family.[4': 1,\n",
              " 'fancy': 1,\n",
              " 'farm': 1,\n",
              " 'felid': 1,\n",
              " 'feral': 2,\n",
              " 'fish,[17': 1,\n",
              " 'flexible': 1,\n",
              " 'found': 1,\n",
              " 'freely': 1,\n",
              " 'frequency': 1,\n",
              " 'freshwater': 1,\n",
              " 'grave': 1,\n",
              " 'growling': 1,\n",
              " 'grunting': 1,\n",
              " 'hear': 1,\n",
              " 'high': 1,\n",
              " 'hissing': 1,\n",
              " 'hobby': 1,\n",
              " 'house': 2,\n",
              " 'households': 1,\n",
              " 'human': 3,\n",
              " 'humans': 2,\n",
              " 'hunt': 1,\n",
              " 'hunters': 1,\n",
              " 'includes': 1,\n",
              " 'including': 1,\n",
              " 'independently': 1,\n",
              " 'indication': 1,\n",
              " 'initiated': 1,\n",
              " 'killing': 1,\n",
              " 'kittens': 1,\n",
              " 'kittens.[9': 1,\n",
              " 'known': 1,\n",
              " 'language.[7': 1,\n",
              " 'large': 1,\n",
              " 'late': 1,\n",
              " 'leaves': 1,\n",
              " 'leopard': 1,\n",
              " 'line': 1,\n",
              " 'litter': 1,\n",
              " 'lived': 1,\n",
              " 'long': 1,\n",
              " 'lybica': 1,\n",
              " 'mammal.[1][2': 1,\n",
              " 'members': 1,\n",
              " 'meowing': 1,\n",
              " 'mice': 1,\n",
              " 'million': 4,\n",
              " 'near': 1,\n",
              " 'neutering': 1,\n",
              " 'number': 1,\n",
              " 'numbers': 1,\n",
              " 'owned': 1,\n",
              " 'owned.[18][19': 1,\n",
              " 'partially': 1,\n",
              " 'pedigreed': 1,\n",
              " 'perceiving': 1,\n",
              " 'pet': 2,\n",
              " 'pets': 3,\n",
              " 'pheromones.[8': 1,\n",
              " 'poorer': 1,\n",
              " 'popular': 1,\n",
              " 'population': 2,\n",
              " 'populations': 1,\n",
              " 'predators': 1,\n",
              " 'prey': 1,\n",
              " 'probably': 1,\n",
              " 'purring': 1,\n",
              " 'quick': 1,\n",
              " 'ranges': 1,\n",
              " 'ranging': 1,\n",
              " 'recognized': 1,\n",
              " 'referred': 1,\n",
              " 'reflexes': 1,\n",
              " 'registered': 1,\n",
              " 'registries.[6': 1,\n",
              " 'resulted': 1,\n",
              " 'retractable': 1,\n",
              " 'rodents': 1,\n",
              " 'second': 1,\n",
              " 'secreting': 1,\n",
              " 'sense': 1,\n",
              " 'sharp': 1,\n",
              " 'shown': 1,\n",
              " 'similar': 1,\n",
              " 'sizes': 1,\n",
              " 'skeleton': 1,\n",
              " 'small': 3,\n",
              " 'smell': 1,\n",
              " 'social': 1,\n",
              " 'solitary': 1,\n",
              " 'sounds': 1,\n",
              " 'spaying': 1,\n",
              " 'species': 4,\n",
              " 'specific': 1,\n",
              " 'spring': 1,\n",
              " 'strong': 1,\n",
              " 'tamed': 1,\n",
              " 'taming': 1,\n",
              " 'teeth': 1,\n",
              " 'thought': 1,\n",
              " 'today.[15][16': 1,\n",
              " 'total': 1,\n",
              " 'trace': 1,\n",
              " 'trilling': 1,\n",
              " 'use': 1,\n",
              " 'valued': 1,\n",
              " 'venerated': 1,\n",
              " 'vision': 1,\n",
              " 'vocalizations': 1,\n",
              " 'vulgaris': 1,\n",
              " 'wild': 1,\n",
              " 'wildcat': 1,\n",
              " 'wildcats': 1,\n",
              " 'worldwide': 1}"
            ]
          },
          "metadata": {
            "tags": []
          },
          "execution_count": 79
        }
      ]
    },
    {
      "cell_type": "code",
      "metadata": {
        "id": "Glza--CevN8x",
        "colab_type": "code",
        "colab": {}
      },
      "source": [
        "# Maximum Word Frequency\n",
        "maximum_frequency = max(word_frequencies.values())"
      ],
      "execution_count": 0,
      "outputs": []
    },
    {
      "cell_type": "code",
      "metadata": {
        "id": "VSM01WBUvS93",
        "colab_type": "code",
        "colab": {}
      },
      "source": [
        "for word in word_frequencies.keys():  \n",
        "        word_frequencies[word] = (word_frequencies[word]/maximum_frequency)"
      ],
      "execution_count": 0,
      "outputs": []
    },
    {
      "cell_type": "code",
      "metadata": {
        "id": "q7SjiWP3vWzv",
        "colab_type": "code",
        "outputId": "aa6416e2-72be-4610-e1eb-c2168020e782",
        "colab": {
          "base_uri": "https://localhost:8080/",
          "height": 1000
        }
      },
      "source": [
        "# Frequency Table\n",
        "word_frequencies"
      ],
      "execution_count": 0,
      "outputs": [
        {
          "output_type": "execute_result",
          "data": {
            "text/plain": [
              "{'\\n': 0.06451612903225806,\n",
              " '\\n\\n': 0.12903225806451613,\n",
              " '(': 0.16129032258064516,\n",
              " ')': 0.16129032258064516,\n",
              " ',': 1.0,\n",
              " '-': 0.06451612903225806,\n",
              " '.': 0.25806451612903225,\n",
              " '1788': 0.03225806451612903,\n",
              " '1829': 0.03225806451612903,\n",
              " '1965': 0.03225806451612903,\n",
              " '2017': 0.03225806451612903,\n",
              " '2019.[20': 0.03225806451612903,\n",
              " '3100': 0.03225806451612903,\n",
              " '4.1': 0.03225806451612903,\n",
              " '4.8': 0.03225806451612903,\n",
              " '5500': 0.03225806451612903,\n",
              " '60': 0.03225806451612903,\n",
              " '7.3': 0.03225806451612903,\n",
              " '7500': 0.03225806451612903,\n",
              " '95': 0.03225806451612903,\n",
              " 'A': 0.03225806451612903,\n",
              " 'About': 0.03225806451612903,\n",
              " 'African': 0.06451612903225806,\n",
              " 'As': 0.03225806451612903,\n",
              " 'BC': 0.03225806451612903,\n",
              " 'BC.[11][12': 0.03225806451612903,\n",
              " 'BC.[13': 0.03225806451612903,\n",
              " 'Cat': 0.03225806451612903,\n",
              " 'Cats': 0.12903225806451613,\n",
              " 'China': 0.03225806451612903,\n",
              " 'Compared': 0.03225806451612903,\n",
              " 'Cyprus': 0.03225806451612903,\n",
              " 'Domestic': 0.03225806451612903,\n",
              " 'East.[14': 0.03225806451612903,\n",
              " 'Egypt': 0.06451612903225806,\n",
              " 'F.': 0.0967741935483871,\n",
              " 'Failure': 0.03225806451612903,\n",
              " 'Felidae': 0.03225806451612903,\n",
              " 'Felis': 0.03225806451612903,\n",
              " 'Female': 0.03225806451612903,\n",
              " 'Fischer': 0.03225806451612903,\n",
              " 'Gmelin': 0.03225806451612903,\n",
              " 'However': 0.03225806451612903,\n",
              " 'In': 0.06451612903225806,\n",
              " 'It': 0.06451612903225806,\n",
              " 'Kingdom': 0.03225806451612903,\n",
              " 'Near': 0.03225806451612903,\n",
              " 'Neolithic': 0.03225806451612903,\n",
              " 'Prionailurus': 0.03225806451612903,\n",
              " 'The': 0.0967741935483871,\n",
              " 'They': 0.03225806451612903,\n",
              " 'U.S.': 0.03225806451612903,\n",
              " 'United': 0.03225806451612903,\n",
              " ']': 0.4838709677419355,\n",
              " 'abandonment': 0.03225806451612903,\n",
              " 'ability': 0.03225806451612903,\n",
              " 'active': 0.03225806451612903,\n",
              " 'adapted': 0.03225806451612903,\n",
              " 'anatomy': 0.03225806451612903,\n",
              " 'ancient': 0.03225806451612903,\n",
              " 'angorensis': 0.03225806451612903,\n",
              " 'animals': 0.03225806451612903,\n",
              " 'autumn': 0.03225806451612903,\n",
              " 'avoids': 0.03225806451612903,\n",
              " 'bengalensis': 0.03225806451612903,\n",
              " 'better': 0.06451612903225806,\n",
              " 'bird': 0.03225806451612903,\n",
              " 'body': 0.06451612903225806,\n",
              " 'bred': 0.03225806451612903,\n",
              " 'breeding': 0.03225806451612903,\n",
              " 'breeds': 0.03225806451612903,\n",
              " 'carnivorous': 0.03225806451612903,\n",
              " 'cat': 0.5483870967741935,\n",
              " 'cats': 0.2903225806451613,\n",
              " 'catus': 0.03225806451612903,\n",
              " 'claws': 0.03225806451612903,\n",
              " 'close': 0.03225806451612903,\n",
              " 'color': 0.03225806451612903,\n",
              " 'communicate': 0.03225806451612903,\n",
              " 'communication': 0.03225806451612903,\n",
              " 'companionship': 0.03225806451612903,\n",
              " 'contact.[5': 0.03225806451612903,\n",
              " 'contributing': 0.03225806451612903,\n",
              " 'control': 0.03225806451612903,\n",
              " 'control.[10': 0.03225806451612903,\n",
              " 'country': 0.03225806451612903,\n",
              " 'crepuscular': 0.03225806451612903,\n",
              " 'dark': 0.03225806451612903,\n",
              " 'darkness': 0.03225806451612903,\n",
              " 'dating': 0.03225806451612903,\n",
              " 'dawn': 0.03225806451612903,\n",
              " 'despite': 0.03225806451612903,\n",
              " 'distinguish': 0.03225806451612903,\n",
              " 'domestic': 0.12903225806451613,\n",
              " 'domesticated': 0.0967741935483871,\n",
              " 'domestication': 0.03225806451612903,\n",
              " 'dusk': 0.03225806451612903,\n",
              " 'earliest': 0.03225806451612903,\n",
              " 'ears': 0.03225806451612903,\n",
              " 'entire': 0.03225806451612903,\n",
              " 'evoking': 0.03225806451612903,\n",
              " 'excavated': 0.03225806451612903,\n",
              " 'extinction': 0.03225806451612903,\n",
              " 'faint': 0.03225806451612903,\n",
              " 'family': 0.03225806451612903,\n",
              " 'family.[4': 0.03225806451612903,\n",
              " 'fancy': 0.03225806451612903,\n",
              " 'farm': 0.03225806451612903,\n",
              " 'felid': 0.03225806451612903,\n",
              " 'feral': 0.06451612903225806,\n",
              " 'fish,[17': 0.03225806451612903,\n",
              " 'flexible': 0.03225806451612903,\n",
              " 'found': 0.03225806451612903,\n",
              " 'freely': 0.03225806451612903,\n",
              " 'frequency': 0.03225806451612903,\n",
              " 'freshwater': 0.03225806451612903,\n",
              " 'grave': 0.03225806451612903,\n",
              " 'growling': 0.03225806451612903,\n",
              " 'grunting': 0.03225806451612903,\n",
              " 'hear': 0.03225806451612903,\n",
              " 'high': 0.03225806451612903,\n",
              " 'hissing': 0.03225806451612903,\n",
              " 'hobby': 0.03225806451612903,\n",
              " 'house': 0.06451612903225806,\n",
              " 'households': 0.03225806451612903,\n",
              " 'human': 0.0967741935483871,\n",
              " 'humans': 0.06451612903225806,\n",
              " 'hunt': 0.03225806451612903,\n",
              " 'hunters': 0.03225806451612903,\n",
              " 'includes': 0.03225806451612903,\n",
              " 'including': 0.03225806451612903,\n",
              " 'independently': 0.03225806451612903,\n",
              " 'indication': 0.03225806451612903,\n",
              " 'initiated': 0.03225806451612903,\n",
              " 'killing': 0.03225806451612903,\n",
              " 'kittens': 0.03225806451612903,\n",
              " 'kittens.[9': 0.03225806451612903,\n",
              " 'known': 0.03225806451612903,\n",
              " 'language.[7': 0.03225806451612903,\n",
              " 'large': 0.03225806451612903,\n",
              " 'late': 0.03225806451612903,\n",
              " 'leaves': 0.03225806451612903,\n",
              " 'leopard': 0.03225806451612903,\n",
              " 'line': 0.03225806451612903,\n",
              " 'litter': 0.03225806451612903,\n",
              " 'lived': 0.03225806451612903,\n",
              " 'long': 0.03225806451612903,\n",
              " 'lybica': 0.03225806451612903,\n",
              " 'mammal.[1][2': 0.03225806451612903,\n",
              " 'members': 0.03225806451612903,\n",
              " 'meowing': 0.03225806451612903,\n",
              " 'mice': 0.03225806451612903,\n",
              " 'million': 0.12903225806451613,\n",
              " 'near': 0.03225806451612903,\n",
              " 'neutering': 0.03225806451612903,\n",
              " 'number': 0.03225806451612903,\n",
              " 'numbers': 0.03225806451612903,\n",
              " 'owned': 0.03225806451612903,\n",
              " 'owned.[18][19': 0.03225806451612903,\n",
              " 'partially': 0.03225806451612903,\n",
              " 'pedigreed': 0.03225806451612903,\n",
              " 'perceiving': 0.03225806451612903,\n",
              " 'pet': 0.06451612903225806,\n",
              " 'pets': 0.0967741935483871,\n",
              " 'pheromones.[8': 0.03225806451612903,\n",
              " 'poorer': 0.03225806451612903,\n",
              " 'popular': 0.03225806451612903,\n",
              " 'population': 0.06451612903225806,\n",
              " 'populations': 0.03225806451612903,\n",
              " 'predators': 0.03225806451612903,\n",
              " 'prey': 0.03225806451612903,\n",
              " 'probably': 0.03225806451612903,\n",
              " 'purring': 0.03225806451612903,\n",
              " 'quick': 0.03225806451612903,\n",
              " 'ranges': 0.03225806451612903,\n",
              " 'ranging': 0.03225806451612903,\n",
              " 'recognized': 0.03225806451612903,\n",
              " 'referred': 0.03225806451612903,\n",
              " 'reflexes': 0.03225806451612903,\n",
              " 'registered': 0.03225806451612903,\n",
              " 'registries.[6': 0.03225806451612903,\n",
              " 'resulted': 0.03225806451612903,\n",
              " 'retractable': 0.03225806451612903,\n",
              " 'rodents': 0.03225806451612903,\n",
              " 'second': 0.03225806451612903,\n",
              " 'secreting': 0.03225806451612903,\n",
              " 'sense': 0.03225806451612903,\n",
              " 'sharp': 0.03225806451612903,\n",
              " 'shown': 0.03225806451612903,\n",
              " 'similar': 0.03225806451612903,\n",
              " 'sizes': 0.03225806451612903,\n",
              " 'skeleton': 0.03225806451612903,\n",
              " 'small': 0.0967741935483871,\n",
              " 'smell': 0.03225806451612903,\n",
              " 'social': 0.03225806451612903,\n",
              " 'solitary': 0.03225806451612903,\n",
              " 'sounds': 0.03225806451612903,\n",
              " 'spaying': 0.03225806451612903,\n",
              " 'species': 0.12903225806451613,\n",
              " 'specific': 0.03225806451612903,\n",
              " 'spring': 0.03225806451612903,\n",
              " 'strong': 0.03225806451612903,\n",
              " 'tamed': 0.03225806451612903,\n",
              " 'taming': 0.03225806451612903,\n",
              " 'teeth': 0.03225806451612903,\n",
              " 'thought': 0.03225806451612903,\n",
              " 'today.[15][16': 0.03225806451612903,\n",
              " 'total': 0.03225806451612903,\n",
              " 'trace': 0.03225806451612903,\n",
              " 'trilling': 0.03225806451612903,\n",
              " 'use': 0.03225806451612903,\n",
              " 'valued': 0.03225806451612903,\n",
              " 'venerated': 0.03225806451612903,\n",
              " 'vision': 0.03225806451612903,\n",
              " 'vocalizations': 0.03225806451612903,\n",
              " 'vulgaris': 0.03225806451612903,\n",
              " 'wild': 0.03225806451612903,\n",
              " 'wildcat': 0.03225806451612903,\n",
              " 'wildcats': 0.03225806451612903,\n",
              " 'worldwide': 0.03225806451612903}"
            ]
          },
          "metadata": {
            "tags": []
          },
          "execution_count": 82
        }
      ]
    },
    {
      "cell_type": "code",
      "metadata": {
        "id": "ruE7Nr4lvZtn",
        "colab_type": "code",
        "colab": {}
      },
      "source": [
        "# Sentence Tokens\n",
        "sentence_list = [ sentence for sentence in docx.sents ]"
      ],
      "execution_count": 0,
      "outputs": []
    },
    {
      "cell_type": "code",
      "metadata": {
        "id": "8aMtR8kGvf0p",
        "colab_type": "code",
        "colab": {}
      },
      "source": [
        "# Sentence Score via comparing each word with sentence\n",
        "sentence_scores = {}  \n",
        "for sent in sentence_list:  \n",
        "        for word in sent:\n",
        "            if word.text.lower() in word_frequencies.keys():\n",
        "                if len(sent.text.split(' ')) < 30:\n",
        "                    if sent not in sentence_scores.keys():\n",
        "                        sentence_scores[sent] = word_frequencies[word.text.lower()]\n",
        "                    else:\n",
        "                        sentence_scores[sent] += word_frequencies[word.text.lower()]\n"
      ],
      "execution_count": 0,
      "outputs": []
    },
    {
      "cell_type": "code",
      "metadata": {
        "id": "hnjyZ42rvlAF",
        "colab_type": "code",
        "outputId": "a0cb34e5-1113-46a1-bf0c-d56412f00405",
        "colab": {
          "base_uri": "https://localhost:8080/",
          "height": 401
        }
      },
      "source": [
        "# Sentence Score Table\n",
        "sentence_scores"
      ],
      "execution_count": 0,
      "outputs": [
        {
          "output_type": "execute_result",
          "data": {
            "text/plain": [
              "{F. angorensis Gmelin, 1788\n",
              " F. vulgaris Fischer, 1829: 2.258064516129032,\n",
              " The cat (Felis catus) is a small carnivorous mammal.[1][2]: 1.5483870967741935,\n",
              " It is the only domesticated species in the family Felidae and often referred to as the domestic cat to distinguish it from wild members of the family.[4]: 1.5806451612903225,\n",
              " The cat is either a house cat or a farm cat, which are pets, or a feral cat, which ranges freely and avoids human contact.[5]: 6.161290322580644,\n",
              " A house cat is valued by humans for companionship and for its ability to hunt rodents.: 1.0967741935483868,\n",
              " About 60 cat breeds are recognized by various cat registries.[6]\n",
              " : 1.8387096774193545,\n",
              " Cats are similar in anatomy to the other felid species, with a strong flexible body, quick reflexes, sharp teeth and retractable claws adapted to killing small prey.: 4.290322580645161,\n",
              " They are predators who are most active at dawn and dusk (crepuscular).: 0.7419354838709676,\n",
              " Cats can hear sounds too faint or too high in frequency for human ears, such as those made by mice and other small animals.: 1.9999999999999998,\n",
              " Compared to humans, they see better in the dark (they see in near total darkness) and have a better sense of smell, but poorer color vision.: 3.064516129032258,\n",
              " Cats, despite being solitary hunters, are a social species.: 2.806451612903225,\n",
              " Cat communication includes the use of vocalizations including meowing, purring, trilling, hissing, growling and grunting as well as cat-specific body language.[7] Cats also communicate by secreting and perceiving pheromones.[8]\n",
              " : 7.161290322580644,\n",
              " Female domestic cats can have kittens from spring to late autumn, with litter sizes ranging from two to five kittens.[9]: 2.161290322580645,\n",
              " Domestic cats can be bred and shown as registered pedigreed cats, a hobby known as cat fancy.: 2.741935483870967,\n",
              " It was long thought that cat domestication was initiated in Egypt, because cats in ancient Egypt were venerated since around 3100 BC.[11][12]: 2.5483870967741935,\n",
              " BC.[13] African wildcats were probably first domesticated in the Near East.[14]: 1.161290322580645,\n",
              " In the United Kingdom, around 7.3 million cats lived in more than 4.8 million households as of 2019.[20]: 2.193548387096774,\n",
              " In 1965, the country's cat population was 4.1 million.: 2.096774193548387}"
            ]
          },
          "metadata": {
            "tags": []
          },
          "execution_count": 85
        }
      ]
    },
    {
      "cell_type": "code",
      "metadata": {
        "id": "456fb0_Vvoof",
        "colab_type": "code",
        "colab": {}
      },
      "source": [
        "# Import Heapq \n",
        "from heapq import nlargest"
      ],
      "execution_count": 0,
      "outputs": []
    },
    {
      "cell_type": "code",
      "metadata": {
        "id": "rINy6z9Ovwqg",
        "colab_type": "code",
        "colab": {}
      },
      "source": [
        "summarized_sentences = nlargest(7, sentence_scores, key=sentence_scores.get)\n"
      ],
      "execution_count": 0,
      "outputs": []
    },
    {
      "cell_type": "code",
      "metadata": {
        "id": "Iegnth5Gv0eP",
        "colab_type": "code",
        "outputId": "67817efe-2221-45e0-e475-460b145e0a63",
        "colab": {
          "base_uri": "https://localhost:8080/",
          "height": 176
        }
      },
      "source": [
        "summarized_sentences"
      ],
      "execution_count": 0,
      "outputs": [
        {
          "output_type": "execute_result",
          "data": {
            "text/plain": [
              "[Cat communication includes the use of vocalizations including meowing, purring, trilling, hissing, growling and grunting as well as cat-specific body language.[7] Cats also communicate by secreting and perceiving pheromones.[8]\n",
              " ,\n",
              " The cat is either a house cat or a farm cat, which are pets, or a feral cat, which ranges freely and avoids human contact.[5],\n",
              " Cats are similar in anatomy to the other felid species, with a strong flexible body, quick reflexes, sharp teeth and retractable claws adapted to killing small prey.,\n",
              " Compared to humans, they see better in the dark (they see in near total darkness) and have a better sense of smell, but poorer color vision.,\n",
              " Cats, despite being solitary hunters, are a social species.,\n",
              " Domestic cats can be bred and shown as registered pedigreed cats, a hobby known as cat fancy.,\n",
              " It was long thought that cat domestication was initiated in Egypt, because cats in ancient Egypt were venerated since around 3100 BC.[11][12]]"
            ]
          },
          "metadata": {
            "tags": []
          },
          "execution_count": 88
        }
      ]
    },
    {
      "cell_type": "code",
      "metadata": {
        "id": "qz1Gtb8-v3Zk",
        "colab_type": "code",
        "outputId": "dda569d5-2e5a-4c82-f246-653b9871056f",
        "colab": {
          "base_uri": "https://localhost:8080/",
          "height": 193
        }
      },
      "source": [
        "# Convert Sentences from Spacy Span to Strings for joining entire sentence\n",
        "for w in summarized_sentences:\n",
        "    print(w.text)"
      ],
      "execution_count": 0,
      "outputs": [
        {
          "output_type": "stream",
          "text": [
            "Cat communication includes the use of vocalizations including meowing, purring, trilling, hissing, growling and grunting as well as cat-specific body language.[7] Cats also communicate by secreting and perceiving pheromones.[8]\n",
            "\n",
            "\n",
            "The cat is either a house cat or a farm cat, which are pets, or a feral cat, which ranges freely and avoids human contact.[5]\n",
            "Cats are similar in anatomy to the other felid species, with a strong flexible body, quick reflexes, sharp teeth and retractable claws adapted to killing small prey.\n",
            "Compared to humans, they see better in the dark (they see in near total darkness) and have a better sense of smell, but poorer color vision.\n",
            "Cats, despite being solitary hunters, are a social species.\n",
            "Domestic cats can be bred and shown as registered pedigreed cats, a hobby known as cat fancy.\n",
            "It was long thought that cat domestication was initiated in Egypt, because cats in ancient Egypt were venerated since around 3100 BC.[11][12]\n"
          ],
          "name": "stdout"
        }
      ]
    },
    {
      "cell_type": "code",
      "metadata": {
        "id": "gUNJW5KIwDXu",
        "colab_type": "code",
        "colab": {}
      },
      "source": [
        "# List Comprehension of Sentences Converted From Spacy.span to strings\n",
        "final_sentences = [ w.text for w in summarized_sentences ]\n"
      ],
      "execution_count": 0,
      "outputs": []
    },
    {
      "cell_type": "code",
      "metadata": {
        "id": "xTuXCUafwIhF",
        "colab_type": "code",
        "colab": {}
      },
      "source": [
        "summary = ' '.join(final_sentences)"
      ],
      "execution_count": 0,
      "outputs": []
    },
    {
      "cell_type": "code",
      "metadata": {
        "id": "F4Juan6awLij",
        "colab_type": "code",
        "outputId": "f7af3a42-634b-4361-969c-36a7e12c65cc",
        "colab": {
          "base_uri": "https://localhost:8080/",
          "height": 55
        }
      },
      "source": [
        "summary"
      ],
      "execution_count": 0,
      "outputs": [
        {
          "output_type": "execute_result",
          "data": {
            "text/plain": [
              "'Cat communication includes the use of vocalizations including meowing, purring, trilling, hissing, growling and grunting as well as cat-specific body language.[7] Cats also communicate by secreting and perceiving pheromones.[8]\\n\\n The cat is either a house cat or a farm cat, which are pets, or a feral cat, which ranges freely and avoids human contact.[5] Cats are similar in anatomy to the other felid species, with a strong flexible body, quick reflexes, sharp teeth and retractable claws adapted to killing small prey. Compared to humans, they see better in the dark (they see in near total darkness) and have a better sense of smell, but poorer color vision. Cats, despite being solitary hunters, are a social species. Domestic cats can be bred and shown as registered pedigreed cats, a hobby known as cat fancy. It was long thought that cat domestication was initiated in Egypt, because cats in ancient Egypt were venerated since around 3100 BC.[11][12]'"
            ]
          },
          "metadata": {
            "tags": []
          },
          "execution_count": 92
        }
      ]
    },
    {
      "cell_type": "code",
      "metadata": {
        "id": "_HXe_L87wVcK",
        "colab_type": "code",
        "outputId": "92391708-b86b-44bc-f9f0-fa3718c30425",
        "colab": {
          "base_uri": "https://localhost:8080/",
          "height": 35
        }
      },
      "source": [
        "# Length of Summary\n",
        "len(summary)"
      ],
      "execution_count": 0,
      "outputs": [
        {
          "output_type": "execute_result",
          "data": {
            "text/plain": [
              "958"
            ]
          },
          "metadata": {
            "tags": []
          },
          "execution_count": 93
        }
      ]
    },
    {
      "cell_type": "code",
      "metadata": {
        "id": "SlxyyGRqwWrl",
        "colab_type": "code",
        "outputId": "2cfdc74f-b65d-4c22-9278-308bf033b82e",
        "colab": {
          "base_uri": "https://localhost:8080/",
          "height": 35
        }
      },
      "source": [
        "# Length of Original Text\n",
        "len(document1)"
      ],
      "execution_count": 0,
      "outputs": [
        {
          "output_type": "execute_result",
          "data": {
            "text/plain": [
              "2742"
            ]
          },
          "metadata": {
            "tags": []
          },
          "execution_count": 94
        }
      ]
    },
    {
      "cell_type": "code",
      "metadata": {
        "id": "gPeI-WAFwhsp",
        "colab_type": "code",
        "colab": {}
      },
      "source": [
        "from gensim.summarization import summarize"
      ],
      "execution_count": 0,
      "outputs": []
    },
    {
      "cell_type": "code",
      "metadata": {
        "id": "a6BVkcE3wlv8",
        "colab_type": "code",
        "colab": {}
      },
      "source": [
        "gensum=summarize(document1)"
      ],
      "execution_count": 0,
      "outputs": []
    },
    {
      "cell_type": "code",
      "metadata": {
        "id": "dUeqeVu5wpQE",
        "colab_type": "code",
        "outputId": "76b1b57a-4005-4c2b-b631-0d7e7b1c0ddc",
        "colab": {
          "base_uri": "https://localhost:8080/",
          "height": 55
        }
      },
      "source": [
        "gensum"
      ],
      "execution_count": 0,
      "outputs": [
        {
          "output_type": "execute_result",
          "data": {
            "text/plain": [
              "'Cats are similar in anatomy to the other felid species, with a strong flexible body, quick reflexes, sharp teeth and retractable claws adapted to killing small prey.\\nFailure to control the breeding of pet cats by spaying and neutering, as well as abandonment of pets, has resulted in large numbers of feral cats worldwide, contributing to the extinction of entire bird species, and evoking population control.[10]\\nlybica) was found in Cyprus, where a cat skeleton was excavated close by a human Neolithic grave dating to around 7500 BC.[13] African wildcats were probably first domesticated in the Near East.[14] The leopard cat (Prionailurus bengalensis) was tamed independently in China around 5500 BC, though this line of partially domesticated cats leaves no trace in the domestic cat populations of today.[15][16]'"
            ]
          },
          "metadata": {
            "tags": []
          },
          "execution_count": 97
        }
      ]
    },
    {
      "cell_type": "code",
      "metadata": {
        "id": "8EL7TV0hwyrZ",
        "colab_type": "code",
        "outputId": "9ed94092-2405-434b-80e6-35ed496b4cb9",
        "colab": {
          "base_uri": "https://localhost:8080/",
          "height": 35
        }
      },
      "source": [
        "len(gensum)"
      ],
      "execution_count": 0,
      "outputs": [
        {
          "output_type": "execute_result",
          "data": {
            "text/plain": [
              "818"
            ]
          },
          "metadata": {
            "tags": []
          },
          "execution_count": 98
        }
      ]
    },
    {
      "cell_type": "code",
      "metadata": {
        "id": "21Kxquosw08W",
        "colab_type": "code",
        "colab": {}
      },
      "source": [
        ""
      ],
      "execution_count": 0,
      "outputs": []
    }
  ]
}